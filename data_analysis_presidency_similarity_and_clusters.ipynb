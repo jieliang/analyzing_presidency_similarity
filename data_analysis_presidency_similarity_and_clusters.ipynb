{
 "cells": [
  {
   "cell_type": "markdown",
   "metadata": {},
   "source": [
    "### data_analysis_presidency_similarity_and_clusters\n",
    "\n",
    "* givn an author, find most similar presidents in terms of cosine similarity\n",
    "* group presidents in clusters"
   ]
  },
  {
   "cell_type": "code",
   "execution_count": 35,
   "metadata": {},
   "outputs": [],
   "source": [
    "import pickle\n",
    "import matplotlib.pyplot as plt\n",
    "from sklearn.metrics import silhouette_score\n",
    "from sklearn.preprocessing import StandardScaler"
   ]
  },
  {
   "cell_type": "markdown",
   "metadata": {},
   "source": [
    "#### load topic modelers and data from pickle files"
   ]
  },
  {
   "cell_type": "code",
   "execution_count": 19,
   "metadata": {},
   "outputs": [],
   "source": [
    "presidents=['Donald J. Trump','Richard Nixon','John Adams','Lyndon B. Johnson','Dwight D. Eisenhower','Woodrow Wilson','Abraham Lincoln',\n",
    " 'John F. Kennedy','George W. Bush','Grover Cleveland','William J. Clinton','Franklin D. Roosevelt','James Madison','Ulysses S. Grant','Barack Obama','William Howard Taft',\n",
    " 'Andrew Jackson',\n",
    " 'George Bush',\n",
    " 'Ronald Reagan',\n",
    " 'Harry S. Truman',\n",
    " 'Gerald R. Ford','Herbert Hoover','George Washington','William Henry Harrison','Jimmy Carter','Warren G. Harding','Thomas Jefferson','Theodore Roosevelt']"
   ]
  },
  {
   "cell_type": "code",
   "execution_count": 81,
   "metadata": {},
   "outputs": [],
   "source": [
    "filename = '/home/ubuntu/proj4/data/sample_30000_lsa_200_tfidf_data_5000.pkl'\n",
    "with open(filename, 'rb') as fp:\n",
    "    sample_lsa_tfidf, sample_lsa_tfidf_data = pickle.load(fp)\n",
    "\n"
   ]
  },
  {
   "cell_type": "code",
   "execution_count": 82,
   "metadata": {},
   "outputs": [],
   "source": [
    "filename = '/home/ubuntu/proj4/data/sample_30000_lda_200_tfidf_data_5000.pkl'\n",
    "with open(filename, 'rb') as fp:\n",
    "    sample_lda_tfidf, sample_lda_tfidf_data = pickle.load(fp)"
   ]
  },
  {
   "cell_type": "code",
   "execution_count": 83,
   "metadata": {},
   "outputs": [],
   "source": [
    "filename = '/home/ubuntu/proj4/data/sample_30000_nmf_200_tfidf_data_5000.pkl'\n",
    "with open(filename, 'rb') as fp:\n",
    "    sample_nmf_tfidf, sample_nmf_tfidf_data = pickle.load(fp)"
   ]
  },
  {
   "cell_type": "code",
   "execution_count": 12,
   "metadata": {},
   "outputs": [],
   "source": [
    "filename = '/home/ubuntu/proj4/data/sample_30000_nmf_200_tfidf_sample_indices_.pkl'\n",
    "with open(filename, 'rb') as fp:\n",
    "    sample_docs_indices = pickle.load(fp)\n"
   ]
  },
  {
   "cell_type": "code",
   "execution_count": 13,
   "metadata": {},
   "outputs": [],
   "source": [
    "filename='/home/ubuntu/proj4/data/sample_30000_nmf_200_tfidf_sample_authors_docs_.pkl'\n",
    "with open(filename, 'rb') as fp:\n",
    "    authors, docs = pickle.load(fp)"
   ]
  },
  {
   "cell_type": "markdown",
   "metadata": {},
   "source": [
    "\n",
    "* __given author, calculate the percentage of all his documents on each of the 200 topics.__ \n",
    "* __form a vector consisting of these 200 percentages and use it to represent this author.__ \n",
    "* __this vector will be used to calculate cosine similarities and clusters.__\n",
    " "
   ]
  },
  {
   "cell_type": "code",
   "execution_count": 280,
   "metadata": {},
   "outputs": [],
   "source": [
    "unique_authors = list(set(authors))\n",
    "\n",
    "authors_indices={}\n",
    "for author in unique_authors:\n",
    "    authors_indices[author]=[index for index in range(len(authors)) if authors[index] == author]\n",
    "    "
   ]
  },
  {
   "cell_type": "code",
   "execution_count": 286,
   "metadata": {},
   "outputs": [
    {
     "data": {
      "text/plain": [
       "dict_keys(['James K. Polk', 'Bobby Jindal', 'Tim Pawlenty', 'Bill Richardson', 'George Bush', 'Abraham Lincoln', 'Woodrow Wilson', 'Martin van Buren', 'Ted Cruz', 'Lyndon B. Johnson', 'James Monroe', 'John Quincy Adams', 'Minor/Third Party Platforms', 'John F. Kerry', 'Walter F. Mondale', 'Rudy Giuliani', 'John Tyler', 'Chester A. Arthur', 'Theodore Roosevelt', 'Calvin Coolidge', 'Mitt Romney', 'Barry Goldwater', 'Michelle Obama', 'Rutherford B. Hayes', 'John Kasich', 'Mike Pence', 'Franklin Pierce', 'Sarah Palin', 'Andrew Johnson', 'Dwight D. Eisenhower', 'Grover Cleveland', 'Richard B. Cheney', 'Robert Gibbs', 'Scott Walker', 'Fred Thompson', 'Jimmy Carter', 'Democratic Party Platforms', 'Sean Spicer', 'George W. Bush', 'Ben Carson', 'Rick Perry', 'Dana Perino', 'Michele Bachmann', 'Jay Carney', 'Ron Paul', 'Marco Rubio', 'Benjamin Harrison', 'Joseph Lieberman', 'Bernie Sanders', 'Rick Santorum', 'James A. Garfield', 'Tony Snow', 'Millard Fillmore', 'Lincoln Chafee', 'Richard Nixon', 'Herman Cain', 'Ari Fleischer', 'John McCain', 'Herbert Hoover', \"Martin O'Malley\", 'Melania Trump', 'Barack Obama', 'Thomas Jefferson', 'Josh Earnest', 'John Adams', 'Donald J. Trump', 'George Washington', 'Andrew Jackson', 'Gerald R. Ford', 'Joe Biden', 'Jim Webb', 'Zachary Taylor', 'James Madison', 'Jeb Bush', 'Tim Kaine', 'Robert Dole', 'Rand Paul', 'Ulysses S. Grant', 'Lindsey Graham', 'James Buchanan', 'Jack Kemp', 'John F. Kennedy', 'William McKinley', 'George Pataki', 'Chris Christie', 'Franklin D. Roosevelt', 'Ronald Reagan', 'Scott McClellan', 'Presidential Candidates Debates', 'Newt Gingrich', 'Republican Party Platforms', 'Charles E. Hughes', 'Warren G. Harding', 'John Edwards', 'Laura Bush', 'Jon Huntsman', 'Hillary Clinton', 'William Henry Harrison', 'Sarah Huckabee Sanders', 'Harry S. Truman', 'Albert Gore, Jr.', 'William Howard Taft', 'Mike Huckabee', 'William J. Clinton'])"
      ]
     },
     "execution_count": 286,
     "metadata": {},
     "output_type": "execute_result"
    }
   ],
   "source": [
    "authors_indices.keys()"
   ]
  },
  {
   "cell_type": "code",
   "execution_count": 292,
   "metadata": {},
   "outputs": [],
   "source": [
    "'''\n",
    "return a scaled vector representing given author in topic space\n",
    "'''\n",
    "\n",
    "def get_author_vec(topic_data, author):\n",
    "    indices = authors_indices[author]\n",
    "    author_vec=sum(topic_data[indices,:])/len(indices)\n",
    "    return StandardScaler().fit_transform(author_vec.reshape(-1, 1))\n",
    "    \n"
   ]
  },
  {
   "cell_type": "code",
   "execution_count": 291,
   "metadata": {},
   "outputs": [],
   "source": [
    "presidents_indices={}\n",
    "for i in range(len(presidents)):\n",
    "    presidents_indices[presidents[i]]=[index for index in range(len(authors)) if authors[index] == presidents[i]]\n",
    "    \n",
    "    \n",
    "    "
   ]
  },
  {
   "cell_type": "code",
   "execution_count": 91,
   "metadata": {},
   "outputs": [],
   "source": [
    "'''\n",
    "returns a list of scaled vectors each representing a president in given topic space\n",
    "'''\n",
    "\n",
    "def get_presidents_vecs(topic_data):\n",
    "    presidents_vecs = []\n",
    "    for i in range(len(presidents)):\n",
    "        indices = presidents_indices[presidents[i]]\n",
    "        presidents_vec=sum(topic_data[indices,:])/len(indices)\n",
    "        presidents_vecs.append(presidents_vec)\n",
    "    return StandardScaler().fit_transform(presidents_vecs)"
   ]
  },
  {
   "cell_type": "code",
   "execution_count": 92,
   "metadata": {},
   "outputs": [],
   "source": [
    "lda_vecs=get_presidents_vecs(sample_lda_tfidf_data)"
   ]
  },
  {
   "cell_type": "code",
   "execution_count": 93,
   "metadata": {},
   "outputs": [],
   "source": [
    "lsa_vecs=get_presidents_vecs(sample_lsa_tfidf_data)"
   ]
  },
  {
   "cell_type": "code",
   "execution_count": 94,
   "metadata": {},
   "outputs": [],
   "source": [
    "nmf_vecs=get_presidents_vecs(sample_nmf_tfidf_data)"
   ]
  },
  {
   "cell_type": "code",
   "execution_count": 343,
   "metadata": {},
   "outputs": [],
   "source": [
    "filename = '/home/ubuntu/proj4/data/lsa_vecs.pkl'\n",
    "pickle.dump(lsa_vecs, open(filename, 'wb'))"
   ]
  },
  {
   "cell_type": "code",
   "execution_count": 344,
   "metadata": {},
   "outputs": [],
   "source": [
    "filename = '/home/ubuntu/proj4/data/lda_vecs.pkl'\n",
    "pickle.dump(lda_vecs, open(filename, 'wb'))"
   ]
  },
  {
   "cell_type": "code",
   "execution_count": 345,
   "metadata": {},
   "outputs": [],
   "source": [
    "filename = '/home/ubuntu/proj4/data/nmf_vecs.pkl'\n",
    "pickle.dump(nmf_vecs, open(filename, 'wb'))"
   ]
  },
  {
   "cell_type": "code",
   "execution_count": 97,
   "metadata": {},
   "outputs": [
    {
     "data": {
      "text/plain": [
       "array([-0.50782315, -0.08783354, -0.71168331, -0.50782315, -0.50782315,\n",
       "       -0.50782315, -0.50782315, -0.58661407, -0.50782315, -0.50782315,\n",
       "       -1.49310583, -0.50782315, -0.50782315, -0.50782315, -0.67952586,\n",
       "       -0.50782315, -0.50782315, -0.50782315, -0.57267765, -0.50782315,\n",
       "       -0.50782315, -0.48229041, -0.6215567 , -0.50782315, -0.50782315,\n",
       "       -0.07015352, -0.50782315, -0.50782315,  0.00758821, -0.50782315,\n",
       "       -0.50782315, -0.50782315,  0.48335112, -0.50782315, -0.50782315,\n",
       "        1.18045231, -0.50782315, -0.50782315, -0.50782315, -0.50782315,\n",
       "       -0.50782315, -0.50782315, -0.50782315,  3.26912974,  4.73452057,\n",
       "       -0.50782315, -0.50782315, -0.50782315, -0.50782315, -0.50782315,\n",
       "       -0.50782315, -0.50782315, -0.50782315,  2.41952596,  0.47400739,\n",
       "       -0.50782315, -0.50782315, -0.50782315, -0.50782315, -0.50782315,\n",
       "       -0.50782315, -0.50782315, -0.50782315,  0.89147007, -0.50782315,\n",
       "       -0.50782315, -0.50782315, -0.50782315, -0.50782315, -0.50782315,\n",
       "       -0.50782315, -0.50782315, -0.50782315, -0.50782315, -0.50782315,\n",
       "       -0.50782315, -0.07933899, -0.50782315, -0.50782315, -0.50782315,\n",
       "       -0.50782315, -0.50782315, -0.50782315, -0.50782315, -0.52330677,\n",
       "       -0.50782315, -0.50782315, -0.50782315, -0.50782315, -0.27258009,\n",
       "       -0.50782315, -0.50782315, -0.50782315, -0.34601592, -0.50782315,\n",
       "       -0.50782315, -0.50782315, -0.70835251, -0.50782315, -0.50782315,\n",
       "       -0.50782315, -0.50782315, -0.50782315, -0.50782315, -0.50782315,\n",
       "        2.48573464,  0.0560741 , -0.50782315,  1.51167798, -0.50782315,\n",
       "        0.02014623, -0.50782315, -0.50782315, -0.50782315, -0.50782315,\n",
       "       -0.50782315, -0.50782315, -0.50782315,  0.59934689, -0.50782315,\n",
       "       -0.50782315,  1.55137566, -0.50782315, -0.5838576 , -0.50782315,\n",
       "       -0.50782315, -0.50782315, -0.50782315, -0.50782315, -0.50782315,\n",
       "       -0.50782315, -0.50782315, -0.50782315,  1.3631714 , -0.50782315,\n",
       "       -0.50782315, -0.50782315, -0.50782315, -0.11973058, -0.50782315,\n",
       "       -0.50782315, -0.50782315, -0.50782315, -0.50782315, -0.50782315,\n",
       "       -0.50782315, -0.50782315, -0.50782315, -0.50782315, -0.50782315,\n",
       "       -0.50782315, -0.50782315, -0.50782315, -0.54006845, -0.50782315,\n",
       "       -0.50782315, -0.50782315, -0.50782315, -0.50782315, -0.50782315,\n",
       "       -0.50782315, -0.50782315, -0.50782315, -0.50782315, -0.50782315,\n",
       "       -0.50782315, -0.42223171, -0.50782315, -0.50782315, -0.50782315,\n",
       "       -0.50782315, -0.50782315, -0.50782315, -0.50782315, -0.50782315,\n",
       "       -0.50782315, -0.50782315, -0.50782315, -0.34094261, -0.50782315,\n",
       "       -0.27306157, -0.50782315, -0.50782315, -0.93226441, -0.50782315,\n",
       "       -0.50782315, -0.50782315, -0.50782315, -0.50782315, -0.50782315,\n",
       "       -0.77372581, -0.50782315, -0.50782315, -0.70784944, -0.50782315,\n",
       "       -0.50782315, -0.50782315, -0.50782315, -0.50782315, -0.50782315])"
      ]
     },
     "execution_count": 97,
     "metadata": {},
     "output_type": "execute_result"
    }
   ],
   "source": [
    "\n",
    "lda_vecs[0]"
   ]
  },
  {
   "cell_type": "markdown",
   "metadata": {},
   "source": [
    "#### visulization of vectors representing  presidents in tSNE space"
   ]
  },
  {
   "cell_type": "code",
   "execution_count": 584,
   "metadata": {},
   "outputs": [
    {
     "name": "stdout",
     "output_type": "stream",
     "text": [
      "[t-SNE] Computing 27 nearest neighbors...\n",
      "[t-SNE] Indexed 28 samples in 0.000s...\n",
      "[t-SNE] Computed neighbors for 28 samples in 0.000s...\n",
      "[t-SNE] Computed conditional probabilities for sample 28 / 28\n",
      "[t-SNE] Mean sigma: 11.169649\n",
      "[t-SNE] Computed conditional probabilities in 0.001s\n",
      "[t-SNE] Iteration 50: error = 45.8223724, gradient norm = 0.5022720 (50 iterations in 0.018s)\n",
      "[t-SNE] Iteration 100: error = 48.0109253, gradient norm = 0.3837562 (50 iterations in 0.018s)\n",
      "[t-SNE] Iteration 150: error = 52.8132935, gradient norm = 0.5036412 (50 iterations in 0.017s)\n",
      "[t-SNE] Iteration 200: error = 49.6217117, gradient norm = 0.5123022 (50 iterations in 0.017s)\n",
      "[t-SNE] Iteration 250: error = 49.9808578, gradient norm = 0.4944986 (50 iterations in 0.017s)\n",
      "[t-SNE] KL divergence after 250 iterations with early exaggeration: 49.980858\n",
      "[t-SNE] Iteration 300: error = 0.8887477, gradient norm = 0.0011109 (50 iterations in 0.017s)\n",
      "[t-SNE] Iteration 350: error = 0.6763365, gradient norm = 0.0012742 (50 iterations in 0.017s)\n",
      "[t-SNE] Iteration 400: error = 0.4411505, gradient norm = 0.0008501 (50 iterations in 0.017s)\n",
      "[t-SNE] Iteration 450: error = 0.2616542, gradient norm = 0.0006697 (50 iterations in 0.017s)\n",
      "[t-SNE] Iteration 500: error = 0.2247305, gradient norm = 0.0002789 (50 iterations in 0.017s)\n",
      "[t-SNE] Iteration 550: error = 0.2027650, gradient norm = 0.0001063 (50 iterations in 0.017s)\n",
      "[t-SNE] Iteration 600: error = 0.1950280, gradient norm = 0.0002530 (50 iterations in 0.014s)\n",
      "[t-SNE] Iteration 650: error = 0.1899958, gradient norm = 0.0000531 (50 iterations in 0.013s)\n",
      "[t-SNE] Iteration 700: error = 0.1883339, gradient norm = 0.0000312 (50 iterations in 0.014s)\n",
      "[t-SNE] Iteration 750: error = 0.1868907, gradient norm = 0.0000272 (50 iterations in 0.013s)\n",
      "[t-SNE] Iteration 800: error = 0.1864194, gradient norm = 0.0000207 (50 iterations in 0.013s)\n",
      "[t-SNE] Iteration 850: error = 0.1850987, gradient norm = 0.0000180 (50 iterations in 0.013s)\n",
      "[t-SNE] Iteration 900: error = 0.1860210, gradient norm = 0.0000123 (50 iterations in 0.013s)\n",
      "[t-SNE] Iteration 950: error = 0.1862573, gradient norm = 0.0000222 (50 iterations in 0.014s)\n",
      "[t-SNE] Iteration 1000: error = 0.1859219, gradient norm = 0.0000094 (50 iterations in 0.013s)\n",
      "[t-SNE] Iteration 1050: error = 0.1853375, gradient norm = 0.0000137 (50 iterations in 0.013s)\n",
      "[t-SNE] Iteration 1100: error = 0.1854549, gradient norm = 0.0000179 (50 iterations in 0.014s)\n",
      "[t-SNE] Iteration 1150: error = 0.1857412, gradient norm = 0.0000155 (50 iterations in 0.013s)\n",
      "[t-SNE] Iteration 1200: error = 0.1858761, gradient norm = 0.0000192 (50 iterations in 0.014s)\n",
      "[t-SNE] Iteration 1200: did not make any progress during the last 300 episodes. Finished.\n",
      "[t-SNE] Error after 1200 iterations: 0.185876\n"
     ]
    }
   ],
   "source": [
    "from sklearn.manifold import TSNE\n",
    "#tried perplexity of 5, 10, 20, 30, 40, then 6,7,8,9.  5-9 have best defined clusters\n",
    "lda_embedded = TSNE(n_components=2, perplexity=15, verbose=2,n_iter=1600).fit_transform(lda_vecs)"
   ]
  },
  {
   "cell_type": "code",
   "execution_count": 585,
   "metadata": {},
   "outputs": [
    {
     "data": {
      "image/png": "[encoded data removed]",
      "text/plain": [
       "<matplotlib.figure.Figure at 0x7f836b6c64e0>"
      ]
     },
     "metadata": {},
     "output_type": "display_data"
    }
   ],
   "source": [
    "colors = labels\n",
    "plt.scatter(lda_embedded[:, 0], lda_embedded[:, 1], c=colors, cmap=plt.cm.Set1);\n",
    "plt.clim(-0.5, 9.5)\n",
    "plt.colorbar()\n",
    "plt.title('3 Clusters in tSNE space')\n",
    "\n",
    "\n"
   ]
  },
  {
   "cell_type": "markdown",
   "metadata": {},
   "source": [
    "####  get presidents most similar to given author in terms of cosine similarity"
   ]
  },
  {
   "cell_type": "code",
   "execution_count": 340,
   "metadata": {},
   "outputs": [
    {
     "name": "stdout",
     "output_type": "stream",
     "text": [
      "(array([[0.63652841, 0.8609783 , 0.86777729, 0.87209599]]), array([[ 8, 14, 17, 10]]))\n"
     ]
    },
    {
     "data": {
      "text/plain": [
       "['Barack Obama', 'George Bush', 'William J. Clinton']"
      ]
     },
     "execution_count": 340,
     "metadata": {},
     "output_type": "execute_result"
    }
   ],
   "source": [
    "from sklearn.neighbors import NearestNeighbors\n",
    "\n",
    "president_topic_vecs = lsa_vecs\n",
    "\n",
    "'''\n",
    "returns a list of presidents most similar to given author\n",
    "'''\n",
    "\n",
    "def get_similar_presidents(author, num_similar_presidents):\n",
    "\n",
    "    nn = NearestNeighbors(n_neighbors=num_similar_presidents+1, metric='cosine', algorithm='brute')\n",
    "    vecs = president_topic_vecs\n",
    "    author_vec = get_author_vec(sample_lsa_tfidf_data,author)\n",
    "    \n",
    "    nn.fit(vecs)\n",
    "    \n",
    "    results = nn.kneighbors(np.array(author_vec).reshape(1, -1))\n",
    "    \n",
    "    #print(results)\n",
    "    \n",
    "    similar_presidents_indices= results[1][0]\n",
    "    return [presidents[i] for i in similar_presidents_indices if presidents[i]!=author][:num_similar_presidents]\n",
    "\n",
    "\n",
    "get_similar_presidents('George W. Bush',3)"
   ]
  },
  {
   "cell_type": "code",
   "execution_count": 349,
   "metadata": {},
   "outputs": [],
   "source": [
    "# pickle nessary data for flask app\n",
    "filename = '/home/ubuntu/proj4/data/flask_data.pkl'\n",
    "pickle.dump((authors_indices,lsa_vecs,sample_lsa_tfidf_data,presidents), open(filename, 'wb'))"
   ]
  },
  {
   "cell_type": "code",
   "execution_count": null,
   "metadata": {},
   "outputs": [],
   "source": []
  },
  {
   "cell_type": "markdown",
   "metadata": {},
   "source": [
    "#### use PCA to reduce dimentions before doing clusting"
   ]
  },
  {
   "cell_type": "code",
   "execution_count": null,
   "metadata": {},
   "outputs": [],
   "source": [
    "def get_pca(X, explained_percentage):\n",
    "    pca = PCA(n_components=explained_percentage)\n",
    "    pca.fit(X)\n",
    "    X_pca = pca.transform(X)\n",
    "    return StandardScaler().fit_transform(X_pca)\n",
    "    "
   ]
  },
  {
   "cell_type": "code",
   "execution_count": 307,
   "metadata": {},
   "outputs": [
    {
     "data": {
      "text/plain": [
       "(28, 1)"
      ]
     },
     "execution_count": 307,
     "metadata": {},
     "output_type": "execute_result"
    }
   ],
   "source": [
    "lda_85=get_pca(lda_vecs, 0.85)\n",
    "lda_85.shape"
   ]
  },
  {
   "cell_type": "code",
   "execution_count": 209,
   "metadata": {},
   "outputs": [],
   "source": [
    "X_pca = lda_85"
   ]
  },
  {
   "cell_type": "markdown",
   "metadata": {},
   "source": [
    "#### clustering"
   ]
  },
  {
   "cell_type": "code",
   "execution_count": 210,
   "metadata": {},
   "outputs": [
    {
     "name": "stdout",
     "output_type": "stream",
     "text": [
      "k =  2 silhouette_score =  0.7576805458302965\n",
      "k =  3 silhouette_score =  0.6642023245460207\n",
      "k =  4 silhouette_score =  0.6328048411978652\n",
      "k =  5 silhouette_score =  0.6304464286496338\n",
      "k =  6 silhouette_score =  0.6028814292288714\n",
      "k =  7 silhouette_score =  0.6034888626926157\n",
      "k =  8 silhouette_score =  0.620267518504569\n",
      "k =  9 silhouette_score =  0.635445571461046\n",
      "k =  10 silhouette_score =  0.6173089885180222\n",
      "k =  11 silhouette_score =  0.5696590395001583\n",
      "k =  12 silhouette_score =  0.5358179351866817\n",
      "k =  13 silhouette_score =  0.5060507370551939\n",
      "k =  14 silhouette_score =  0.46856728340237075\n",
      "k =  15 silhouette_score =  0.46816178477265996\n",
      "k =  16 silhouette_score =  0.46408611174740166\n",
      "k =  17 silhouette_score =  0.44130034958034875\n",
      "k =  18 silhouette_score =  0.3859896542214395\n",
      "k =  19 silhouette_score =  0.39939411090634225\n",
      "k =  20 silhouette_score =  0.35604874726640073\n",
      "k =  21 silhouette_score =  0.3360028362542281\n",
      "k =  22 silhouette_score =  0.2972202989834224\n",
      "k =  23 silhouette_score =  0.29192255680009654\n",
      "k =  24 silhouette_score =  0.2456301029568387\n"
     ]
    }
   ],
   "source": [
    "from sklearn.cluster import KMeans\n",
    "from sklearn.metrics import silhouette_score\n",
    "\n",
    "\n",
    "\n",
    "# lsa results\n",
    "SSEs = []\n",
    "Sil_coefs = []\n",
    "for k in range(2,25):\n",
    "\n",
    "    km = KMeans(n_clusters=k, random_state=1)\n",
    "    km.fit(X_pca)\n",
    "    labels = km.labels_\n",
    "    Sil_coefs.append(silhouette_score(X_pca, labels))\n",
    "    SSEs.append(km.inertia_)\n",
    "\n",
    "    print('k = ',k, \"silhouette_score = \", silhouette_score(X_pca,labels))"
   ]
  },
  {
   "cell_type": "code",
   "execution_count": null,
   "metadata": {},
   "outputs": [],
   "source": []
  },
  {
   "cell_type": "code",
   "execution_count": 211,
   "metadata": {},
   "outputs": [
    {
     "name": "stdout",
     "output_type": "stream",
     "text": [
      "cluster  0 : size =  10\n",
      "Richard Nixon\n",
      "Lyndon B. Johnson\n",
      "Dwight D. Eisenhower\n",
      "Woodrow Wilson\n",
      "John F. Kennedy\n",
      "George W. Bush\n",
      "William J. Clinton\n",
      "Barack Obama\n",
      "Gerald R. Ford\n",
      "Warren G. Harding\n",
      "\n",
      "\n",
      "cluster  1 : size =  11\n",
      "John Adams\n",
      "Abraham Lincoln\n",
      "Grover Cleveland\n",
      "James Madison\n",
      "Ulysses S. Grant\n",
      "William Howard Taft\n",
      "Andrew Jackson\n",
      "Herbert Hoover\n",
      "George Washington\n",
      "Thomas Jefferson\n",
      "Theodore Roosevelt\n",
      "\n",
      "\n",
      "cluster  2 : size =  7\n",
      "Donald J. Trump\n",
      "Franklin D. Roosevelt\n",
      "George Bush\n",
      "Ronald Reagan\n",
      "Harry S. Truman\n",
      "William Henry Harrison\n",
      "Jimmy Carter\n",
      "\n",
      "\n"
     ]
    }
   ],
   "source": [
    "num_clusters = 3\n",
    "\n",
    "km = KMeans(n_clusters=num_clusters, random_state=1)\n",
    "km.fit(X_pca)\n",
    "labels = km.labels_\n",
    "\n",
    "km.\n",
    "\n",
    "clusters = {}\n",
    "\n",
    "for i in range(num_clusters):\n",
    "    clusters[i]=[]\n",
    "for i in range(len(labels)):\n",
    "    clusters[labels[i]].append(presidents[i])\n",
    "for i in range(num_clusters):\n",
    "    print('cluster ',i,': size = ',len(clusters[i]))\n",
    "    for president in clusters[i]:\n",
    "        print(president)\n",
    "    print('\\n')"
   ]
  },
  {
   "cell_type": "code",
   "execution_count": 473,
   "metadata": {},
   "outputs": [
    {
     "data": {
      "text/plain": [
       "([<matplotlib.axis.YTick at 0x7f83441b75f8>,\n",
       "  <matplotlib.axis.YTick at 0x7f83441b7860>,\n",
       "  <matplotlib.axis.YTick at 0x7f83441b75c0>],\n",
       " <a list of 3 Text yticklabel objects>)"
      ]
     },
     "execution_count": 473,
     "metadata": {},
     "output_type": "execute_result"
    },
    {
     "data": {
      "image/png": "[encoded data removed]",
      "text/plain": [
       "<matplotlib.figure.Figure at 0x7f8343f369b0>"
      ]
     },
     "metadata": {},
     "output_type": "display_data"
    }
   ],
   "source": [
    "from matplotlib import cm\n",
    "plt.scatter(X_pca,labels, c=labels)\n",
    "plt.ylabel('')\n",
    "plt.xlabel('President topic vector projected value on PCA special direction')\n",
    "plt.yticks([0,1,2], ['cluster 0','cluster 1','cluster 2'], rotation='horizontal')\n"
   ]
  }
 ],
 "metadata": {
  "kernelspec": {
   "display_name": "Python 3",
   "language": "python",
   "name": "python3"
  },
  "language_info": {
   "codemirror_mode": {
    "name": "ipython",
    "version": 3
   },
   "file_extension": ".py",
   "mimetype": "text/x-python",
   "name": "python",
   "nbconvert_exporter": "python",
   "pygments_lexer": "ipython3",
   "version": "3.6.5"
  }
 },
 "nbformat": 4,
 "nbformat_minor": 2
}
